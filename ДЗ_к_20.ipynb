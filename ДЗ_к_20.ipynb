{
  "nbformat": 4,
  "nbformat_minor": 0,
  "metadata": {
    "colab": {
      "provenance": [],
      "authorship_tag": "ABX9TyNMtPyW33gB/SigzGxTDPYb",
      "include_colab_link": true
    },
    "kernelspec": {
      "name": "python3",
      "display_name": "Python 3"
    },
    "language_info": {
      "name": "python"
    }
  },
  "cells": [
    {
      "cell_type": "markdown",
      "metadata": {
        "id": "view-in-github",
        "colab_type": "text"
      },
      "source": [
        "<a href=\"https://colab.research.google.com/github/kamkamzer/pythonProject1/blob/main/%D0%94%D0%97_%D0%BA_20.ipynb\" target=\"_parent\"><img src=\"https://colab.research.google.com/assets/colab-badge.svg\" alt=\"Open In Colab\"/></a>"
      ]
    },
    {
      "cell_type": "markdown",
      "source": [
        "Задача NERStats"
      ],
      "metadata": {
        "id": "-uDH35pgXnVe"
      }
    },
    {
      "cell_type": "code",
      "source": [
        "!pip install textblob\n",
        "!python -m textblob.download_corpora\n"
      ],
      "metadata": {
        "id": "tN7f1O_F3XLT"
      },
      "execution_count": null,
      "outputs": []
    },
    {
      "cell_type": "code",
      "execution_count": null,
      "metadata": {
        "colab": {
          "base_uri": "https://localhost:8080/"
        },
        "id": "zWDJHRYOXjz7",
        "outputId": "fe313bcf-941a-431b-b096-1e088ebf1728"
      },
      "outputs": [
        {
          "output_type": "stream",
          "name": "stdout",
          "text": [
            "[]\n"
          ]
        }
      ],
      "source": [
        "from collections import Counter\n",
        "from textblob import TextBlob\n",
        "\n",
        "class NERStats:\n",
        "    def __init__(self, document):\n",
        "        self.document = document\n",
        "        self.ner_extractor = TextBlob(document)\n",
        "\n",
        "    def analyze_entities(self):\n",
        "        self.ner_entities = [entity for entity, tag in self.ner_extractor.tags if tag == 'NNP']\n",
        "        self.ner_counter = Counter(self.ner_entities)\n",
        "\n",
        "    def display_most_common_entities(self, n=5):\n",
        "        print(self.ner_counter.most_common(n))\n",
        "\n",
        "\n",
        "doc = \"В этом тексте мы хотим выделить и подсчитать именованные сущности, например, имена людей и названия организаций\"\n",
        "ner_stats = NERStats(doc)\n",
        "ner_stats.analyze_entities()\n",
        "ner_stats.display_most_common_entities(3)\n"
      ]
    },
    {
      "cell_type": "markdown",
      "source": [
        "Задача LemmaStats"
      ],
      "metadata": {
        "id": "dlIVhCG84aku"
      }
    },
    {
      "cell_type": "code",
      "source": [
        "import spacy\n",
        "from collections import Counter\n",
        "from textblob import TextBlob\n",
        "\n",
        "class LemmaStats:\n",
        "    def __init__(self, document):\n",
        "        self.document = document\n",
        "        self.spacy_nlp = spacy.load(\"en_core_web_sm\")\n",
        "\n",
        "    def lemmatize(self):\n",
        "        self.doc = self.spacy_nlp(self.document)\n",
        "        self.lemmas = [token.lemma_ for token in self.doc if not token.is_punct]\n",
        "\n",
        "    def create_lemma_frequency(self):\n",
        "        self.lemma_counter = Counter(self.lemmas)\n",
        "\n",
        "    def display_most_common_lemmas(self, n=5):\n",
        "        print(self.lemma_counter.most_common(n))\n",
        "\n",
        "\n",
        "doc = \"The quick brown fox jumped over the lazy dog.\"\n",
        "lemma_stats = LemmaStats(doc)\n",
        "lemma_stats.lemmatize()\n",
        "lemma_stats.create_lemma_frequency()\n",
        "lemma_stats.display_most_common_lemmas()\n"
      ],
      "metadata": {
        "colab": {
          "base_uri": "https://localhost:8080/"
        },
        "id": "zOtE4MX73Wg2",
        "outputId": "5d7c6da8-78f8-494d-955c-c94fdaeb3bae"
      },
      "execution_count": null,
      "outputs": [
        {
          "output_type": "stream",
          "name": "stdout",
          "text": [
            "[('the', 2), ('quick', 1), ('brown', 1), ('fox', 1), ('jump', 1)]\n"
          ]
        }
      ]
    },
    {
      "cell_type": "markdown",
      "source": [
        "Задача PoSStats"
      ],
      "metadata": {
        "id": "42CZIjeE488H"
      }
    },
    {
      "cell_type": "code",
      "source": [
        "import nltk\n",
        "from nltk.tokenize import word_tokenize\n",
        "from nltk import pos_tag\n",
        "from collections import Counter\n",
        "\n",
        "class PoSStats:\n",
        "    def __init__(self, document):\n",
        "        self.document = document\n",
        "\n",
        "    def tokenize_and_tag(self):\n",
        "        self.tokens = word_tokenize(self.document)\n",
        "        self.pos_tags = pos_tag(self.tokens)\n",
        "\n",
        "    def display_most_common_pos(self, n=5):\n",
        "        pos_counter = Counter(tag for word, tag in self.pos_tags)\n",
        "        common_pos = pos_counter.most_common(n)\n",
        "        print(common_pos)\n",
        "\n",
        "# Пример использования класса PoSStats\n",
        "doc = \"The quick brown fox jumped over the lazy dog.\"\n",
        "pos_stats = PoSStats(doc)\n",
        "pos_stats.tokenize_and_tag()\n",
        "pos_stats.display_most_common_pos()\n"
      ],
      "metadata": {
        "colab": {
          "base_uri": "https://localhost:8080/"
        },
        "id": "lNXadfJU5AsY",
        "outputId": "d8983fc4-43b2-4e51-e48b-e04266f4f1f3"
      },
      "execution_count": null,
      "outputs": [
        {
          "output_type": "stream",
          "name": "stdout",
          "text": [
            "[('NN', 3), ('DT', 2), ('JJ', 2), ('VBD', 1), ('IN', 1)]\n"
          ]
        }
      ]
    }
  ]
}