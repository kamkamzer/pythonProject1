{
  "nbformat": 4,
  "nbformat_minor": 0,
  "metadata": {
    "colab": {
      "provenance": [],
      "authorship_tag": "ABX9TyP5X82h7hDoqDB0sEbSG19n",
      "include_colab_link": true
    },
    "kernelspec": {
      "name": "python3",
      "display_name": "Python 3"
    },
    "language_info": {
      "name": "python"
    }
  },
  "cells": [
    {
      "cell_type": "markdown",
      "metadata": {
        "id": "view-in-github",
        "colab_type": "text"
      },
      "source": [
        "<a href=\"https://colab.research.google.com/github/kamkamzer/pythonProject1/blob/main/%D0%90%D0%A0_18_%D0%BE%D0%BA%D1%82_.ipynb\" target=\"_parent\"><img src=\"https://colab.research.google.com/assets/colab-badge.svg\" alt=\"Open In Colab\"/></a>"
      ]
    },
    {
      "cell_type": "code",
      "execution_count": 2,
      "metadata": {
        "colab": {
          "base_uri": "https://localhost:8080/"
        },
        "id": "sdz9OpRNupSJ",
        "outputId": "011d2f65-92d7-4cb3-da0c-253ab62bb0c5"
      },
      "outputs": [
        {
          "output_type": "stream",
          "name": "stdout",
          "text": [
            "[1, 2, 3, 4, 5, 6, 7, 8, 9]\n",
            "[1, 2, 3, 4, 5, 6, 7, 8, 9]\n"
          ]
        }
      ],
      "source": [
        "a = []\n",
        "for i in range(1,10):\n",
        "  a.append(i)\n",
        "\n",
        "b = [i for i in range(1,10)]\n",
        "\n",
        "print(a)\n",
        "print(b)"
      ]
    },
    {
      "cell_type": "code",
      "source": [
        "sample_string = \"several words\"\n",
        "vowels = \"aiueo\"\n",
        "\n",
        "a = []\n",
        "for i in sample_string:\n",
        "  if i in vowels:\n",
        "    a.append(i)\n",
        "\n",
        "b = [i for i in sample_string if i in vowels]\n",
        "\n",
        "print(a)\n",
        "print(b)"
      ],
      "metadata": {
        "colab": {
          "base_uri": "https://localhost:8080/"
        },
        "id": "9tw_F_MovlLl",
        "outputId": "87b9e9d7-4121-4811-bf86-27c2f05f93f2"
      },
      "execution_count": 4,
      "outputs": [
        {
          "output_type": "stream",
          "name": "stdout",
          "text": [
            "['e', 'e', 'a', 'o']\n",
            "['e', 'e', 'a', 'o']\n"
          ]
        }
      ]
    },
    {
      "cell_type": "code",
      "source": [
        "matrix = [1, 10], [2, 20], [3, 30]\n",
        "one_dim = [j for i in matrix for j in i]\n",
        "\n",
        "print(one_dim)"
      ],
      "metadata": {
        "colab": {
          "base_uri": "https://localhost:8080/"
        },
        "id": "gr8-QPN7v83C",
        "outputId": "4ca62f1f-3f18-4ac8-df69-2fd761e7db4b"
      },
      "execution_count": 5,
      "outputs": [
        {
          "output_type": "stream",
          "name": "stdout",
          "text": [
            "[1, 10, 2, 20, 3, 30]\n"
          ]
        }
      ]
    },
    {
      "cell_type": "markdown",
      "source": [
        "Задания на закрепление"
      ],
      "metadata": {
        "id": "tohapCEgy3G7"
      }
    },
    {
      "cell_type": "code",
      "source": [
        "a = [i for i in range(3, 24, 2)]\n",
        "a"
      ],
      "metadata": {
        "colab": {
          "base_uri": "https://localhost:8080/"
        },
        "id": "abZhM3y5xBl2",
        "outputId": "2786e412-f4f3-4680-b7f5-5879cc256b64"
      },
      "execution_count": 6,
      "outputs": [
        {
          "output_type": "execute_result",
          "data": {
            "text/plain": [
              "[3, 5, 7, 9, 11, 13, 15, 17, 19, 21, 23]"
            ]
          },
          "metadata": {},
          "execution_count": 6
        }
      ]
    },
    {
      "cell_type": "code",
      "source": [
        "a = [i**2 for i in range(1,6)]\n",
        "a"
      ],
      "metadata": {
        "colab": {
          "base_uri": "https://localhost:8080/"
        },
        "id": "wq-UwwFjyzm9",
        "outputId": "e5fdf404-3d95-4831-d6ad-a944d78aaaa1"
      },
      "execution_count": 9,
      "outputs": [
        {
          "output_type": "execute_result",
          "data": {
            "text/plain": [
              "[1, 4, 9, 16, 25]"
            ]
          },
          "metadata": {},
          "execution_count": 9
        }
      ]
    },
    {
      "cell_type": "code",
      "source": [
        "nums = [i for i in range(11) if i % 2 != 0]\n",
        "nums"
      ],
      "metadata": {
        "colab": {
          "base_uri": "https://localhost:8080/"
        },
        "id": "GzylOKFuzChT",
        "outputId": "dab143d0-83af-4b66-e316-a60b7e2f9305"
      },
      "execution_count": 10,
      "outputs": [
        {
          "output_type": "execute_result",
          "data": {
            "text/plain": [
              "[1, 3, 5, 7, 9]"
            ]
          },
          "metadata": {},
          "execution_count": 10
        }
      ]
    },
    {
      "cell_type": "markdown",
      "source": [
        "Что тут случилось??"
      ],
      "metadata": {
        "id": "13AHxhyg1zeM"
      }
    },
    {
      "cell_type": "code",
      "source": [
        "nums = [i for i in a if i % 2 != 0]\n",
        "nums"
      ],
      "metadata": {
        "colab": {
          "base_uri": "https://localhost:8080/"
        },
        "id": "9KDgp0E81m6L",
        "outputId": "a0ba0a0d-9e2b-45bd-9ddf-177bbe061848"
      },
      "execution_count": 11,
      "outputs": [
        {
          "output_type": "execute_result",
          "data": {
            "text/plain": [
              "[1, 9, 25]"
            ]
          },
          "metadata": {},
          "execution_count": 11
        }
      ]
    },
    {
      "cell_type": "code",
      "source": [
        "words = [\"WOrds\", \"are\", \"difFerent\"]\n",
        "words_lower = [i.lower() for i in words]\n",
        "words_lower"
      ],
      "metadata": {
        "colab": {
          "base_uri": "https://localhost:8080/"
        },
        "id": "j_3lqAsU14CQ",
        "outputId": "9b1d05ab-24a9-4646-ba87-a8e154632048"
      },
      "execution_count": 16,
      "outputs": [
        {
          "output_type": "execute_result",
          "data": {
            "text/plain": [
              "['words', 'are', 'different']"
            ]
          },
          "metadata": {},
          "execution_count": 16
        }
      ]
    },
    {
      "cell_type": "markdown",
      "source": [
        "Тренируемся!"
      ],
      "metadata": {
        "id": "HaL1fnP72xBL"
      }
    },
    {
      "cell_type": "code",
      "source": [
        "nested_list = [[1, 2, 3], [4, 5]]\n",
        "flat_list = [j for i in nested_list for j in i]\n",
        "flat_list\n",
        "for i in nested_list:\n",
        "  for j in i:\n",
        "    print(j)\n",
        "[j for i in nested_list for j in i]\n"
      ],
      "metadata": {
        "colab": {
          "base_uri": "https://localhost:8080/"
        },
        "id": "OUpvmc362yls",
        "outputId": "31bb851b-ae23-420c-ac43-4998b15ea036"
      },
      "execution_count": 23,
      "outputs": [
        {
          "output_type": "stream",
          "name": "stdout",
          "text": [
            "1\n",
            "2\n",
            "3\n",
            "4\n",
            "5\n"
          ]
        },
        {
          "output_type": "execute_result",
          "data": {
            "text/plain": [
              "[1, 2, 3, 4, 5]"
            ]
          },
          "metadata": {},
          "execution_count": 23
        }
      ]
    },
    {
      "cell_type": "code",
      "source": [
        "matrix = [[90, 8], [1], [12, 45]]\n",
        "for i in matrix:\n",
        "  for j in i:\n",
        "    print(j)"
      ],
      "metadata": {
        "colab": {
          "base_uri": "https://localhost:8080/"
        },
        "id": "lzLSPu-b495g",
        "outputId": "eceb63ed-794e-4fc7-a005-959f4a1c1b70"
      },
      "execution_count": 25,
      "outputs": [
        {
          "output_type": "stream",
          "name": "stdout",
          "text": [
            "90\n",
            "8\n",
            "1\n",
            "12\n",
            "45\n"
          ]
        }
      ]
    },
    {
      "cell_type": "code",
      "source": [
        "[(n, n**2) for n in range(1, 6)]"
      ],
      "metadata": {
        "colab": {
          "base_uri": "https://localhost:8080/"
        },
        "id": "3ZqCaTM65fM2",
        "outputId": "994f9b7f-59f2-41ef-b234-e4bee15e035c"
      },
      "execution_count": 26,
      "outputs": [
        {
          "output_type": "execute_result",
          "data": {
            "text/plain": [
              "[(1, 1), (2, 4), (3, 9), (4, 16), (5, 25)]"
            ]
          },
          "metadata": {},
          "execution_count": 26
        }
      ]
    },
    {
      "cell_type": "code",
      "source": [
        "sentence = 'This is a sample sentence'\n",
        "[i for i in sentence.split() if len(i) > 4]"
      ],
      "metadata": {
        "colab": {
          "base_uri": "https://localhost:8080/"
        },
        "id": "-L81pdTX8evu",
        "outputId": "a841bca3-bac2-4cb2-d1c2-b0c0b517c0de"
      },
      "execution_count": 27,
      "outputs": [
        {
          "output_type": "execute_result",
          "data": {
            "text/plain": [
              "['sample', 'sentence']"
            ]
          },
          "metadata": {},
          "execution_count": 27
        }
      ]
    },
    {
      "cell_type": "code",
      "source": [
        "sentence = 'This is a sample sentence'\n",
        "words = sentence.split()\n",
        "words\n",
        "a = []\n",
        "for word in words:\n",
        "  if len(word) > 4:\n",
        "    a.append(word)\n",
        "a"
      ],
      "metadata": {
        "colab": {
          "base_uri": "https://localhost:8080/"
        },
        "id": "4BKpDfJS8-My",
        "outputId": "738e2b34-2c0a-478a-b881-8de79c5efa39"
      },
      "execution_count": 34,
      "outputs": [
        {
          "output_type": "execute_result",
          "data": {
            "text/plain": [
              "['sample', 'sentence']"
            ]
          },
          "metadata": {},
          "execution_count": 34
        }
      ]
    },
    {
      "cell_type": "code",
      "source": [
        "i = []\n",
        "for n in range(1, 6):\n",
        "  temp = (n, n**2)\n",
        "  i.append(temp)\n",
        "i"
      ],
      "metadata": {
        "colab": {
          "base_uri": "https://localhost:8080/"
        },
        "id": "1Z5cgQ7I9nVG",
        "outputId": "9ffd587f-1e94-4543-cfdf-64a68adb0345"
      },
      "execution_count": 35,
      "outputs": [
        {
          "output_type": "execute_result",
          "data": {
            "text/plain": [
              "[(1, 1), (2, 4), (3, 9), (4, 16), (5, 25)]"
            ]
          },
          "metadata": {},
          "execution_count": 35
        }
      ]
    }
  ]
}