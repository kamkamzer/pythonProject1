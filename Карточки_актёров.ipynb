{
  "nbformat": 4,
  "nbformat_minor": 0,
  "metadata": {
    "colab": {
      "provenance": [],
      "include_colab_link": true
    },
    "kernelspec": {
      "name": "python3",
      "display_name": "Python 3"
    },
    "language_info": {
      "name": "python"
    }
  },
  "cells": [
    {
      "cell_type": "markdown",
      "metadata": {
        "id": "view-in-github",
        "colab_type": "text"
      },
      "source": [
        "<a href=\"https://colab.research.google.com/github/kamkamzer/pythonProject1/blob/main/%D0%9A%D0%B0%D1%80%D1%82%D0%BE%D1%87%D0%BA%D0%B8_%D0%B0%D0%BA%D1%82%D1%91%D1%80%D0%BE%D0%B2.ipynb\" target=\"_parent\"><img src=\"https://colab.research.google.com/assets/colab-badge.svg\" alt=\"Open In Colab\"/></a>"
      ]
    },
    {
      "cell_type": "markdown",
      "source": [
        "```\n",
        "MIT License\n",
        "\n",
        "Copyright (c) 2023 Victoria Firsanova\n",
        "\n",
        "Permission is hereby granted, free of charge, to any person obtaining a copy of this software and associated documentation files (the \"Software\"), to deal in the Software without restriction, including without limitation the rights to use, copy, modify, merge, publish, distribute, sublicense, and/or sell copies of the Software, and to permit persons to whom the Software is furnished to do so, subject to the following conditions:\n",
        "\n",
        "The above copyright notice and this permission notice shall be included in all copies or substantial portions of the Software.\n",
        "\n",
        "THE SOFTWARE IS PROVIDED \"AS IS\", WITHOUT WARRANTY OF ANY KIND, EXPRESS OR IMPLIED, INCLUDING BUT NOT LIMITED TO THE WARRANTIES OF MERCHANTABILITY, FITNESS FOR A PARTICULAR PURPOSE AND NONINFRINGEMENT. IN NO EVENT SHALL THE AUTHORS OR COPYRIGHT HOLDERS BE LIABLE FOR ANY CLAIM, DAMAGES OR OTHER LIABILITY, WHETHER IN AN ACTION OF CONTRACT, TORT OR OTHERWISE, ARISING FROM, OUT OF OR IN CONNECTION WITH THE SOFTWARE OR THE USE OR OTHER DEALINGS IN THE SOFTWARE.\n",
        "```"
      ],
      "metadata": {
        "id": "6cQvzaYa5Z9C"
      }
    },
    {
      "cell_type": "markdown",
      "source": [
        "Работаем с Cinemagoer: https://cinemagoer.github.io/"
      ],
      "metadata": {
        "id": "NDJ9wtCQ24UT"
      }
    },
    {
      "cell_type": "code",
      "source": [
        "!pip install cinemagoer"
      ],
      "metadata": {
        "id": "dZB9wR7Cq6DP",
        "colab": {
          "base_uri": "https://localhost:8080/"
        },
        "outputId": "2a34c432-4147-424f-b2ef-9ea7da4c7a3f"
      },
      "execution_count": 3,
      "outputs": [
        {
          "output_type": "stream",
          "name": "stdout",
          "text": [
            "Collecting cinemagoer\n",
            "  Downloading cinemagoer-2023.5.1-py3-none-any.whl (297 kB)\n",
            "\u001b[?25l     \u001b[90m━━━━━━━━━━━━━━━━━━━━━━━━━━━━━━━━━━━━━━━━\u001b[0m \u001b[32m0.0/297.2 kB\u001b[0m \u001b[31m?\u001b[0m eta \u001b[36m-:--:--\u001b[0m\r\u001b[2K     \u001b[91m━━━━━━━━━━━━━━━\u001b[0m\u001b[90m╺\u001b[0m\u001b[90m━━━━━━━━━━━━━━━━━━━━━━━━\u001b[0m \u001b[32m112.6/297.2 kB\u001b[0m \u001b[31m3.2 MB/s\u001b[0m eta \u001b[36m0:00:01\u001b[0m\r\u001b[2K     \u001b[90m━━━━━━━━━━━━━━━━━━━━━━━━━━━━━━━━━━━━━━━━\u001b[0m \u001b[32m297.2/297.2 kB\u001b[0m \u001b[31m5.2 MB/s\u001b[0m eta \u001b[36m0:00:00\u001b[0m\n",
            "\u001b[?25hRequirement already satisfied: SQLAlchemy in /usr/local/lib/python3.10/dist-packages (from cinemagoer) (2.0.22)\n",
            "Requirement already satisfied: lxml in /usr/local/lib/python3.10/dist-packages (from cinemagoer) (4.9.3)\n",
            "Requirement already satisfied: typing-extensions>=4.2.0 in /usr/local/lib/python3.10/dist-packages (from SQLAlchemy->cinemagoer) (4.5.0)\n",
            "Requirement already satisfied: greenlet!=0.4.17 in /usr/local/lib/python3.10/dist-packages (from SQLAlchemy->cinemagoer) (3.0.0)\n",
            "Installing collected packages: cinemagoer\n",
            "Successfully installed cinemagoer-2023.5.1\n"
          ]
        }
      ]
    },
    {
      "cell_type": "code",
      "execution_count": 4,
      "metadata": {
        "id": "Zn7ebKaSjSmK"
      },
      "outputs": [],
      "source": [
        "from imdb import Cinemagoer\n",
        "\n",
        "# создаем класс Cinemagoer\n",
        "ia = Cinemagoer()\n",
        "\n",
        "# получаем информацию про фильм по ID в IMDB https://www.imdb.com/title/tt###\n",
        "movie = ia.get_movie('2243973')"
      ]
    },
    {
      "cell_type": "code",
      "source": [
        "# посмотрим, какая информация нам доступна\n",
        "sorted(movie.keys())"
      ],
      "metadata": {
        "id": "TjihNPcKxD7s",
        "colab": {
          "base_uri": "https://localhost:8080/"
        },
        "outputId": "648177aa-5c94-4e49-a4a9-82b1861edf5c"
      },
      "execution_count": 5,
      "outputs": [
        {
          "output_type": "execute_result",
          "data": {
            "text/plain": [
              "['akas',\n",
              " 'aspect ratio',\n",
              " 'canonical title',\n",
              " 'cast',\n",
              " 'certificates',\n",
              " 'color info',\n",
              " 'countries',\n",
              " 'country codes',\n",
              " 'cover url',\n",
              " 'distributors',\n",
              " 'full-size cover url',\n",
              " 'genres',\n",
              " 'imdbID',\n",
              " 'kind',\n",
              " 'language codes',\n",
              " 'languages',\n",
              " 'localized title',\n",
              " 'long imdb canonical title',\n",
              " 'long imdb title',\n",
              " 'number of seasons',\n",
              " 'original title',\n",
              " 'other companies',\n",
              " 'plot',\n",
              " 'production companies',\n",
              " 'rating',\n",
              " 'runtimes',\n",
              " 'seasons',\n",
              " 'series years',\n",
              " 'smart canonical title',\n",
              " 'smart long imdb canonical title',\n",
              " 'sound mix',\n",
              " 'special effects',\n",
              " 'synopsis',\n",
              " 'title',\n",
              " 'videos',\n",
              " 'votes',\n",
              " 'writer',\n",
              " 'year']"
            ]
          },
          "metadata": {},
          "execution_count": 5
        }
      ]
    },
    {
      "cell_type": "markdown",
      "source": [
        "# Задачи на работу со строками"
      ],
      "metadata": {
        "id": "YN57OZzX0A-t"
      }
    },
    {
      "cell_type": "code",
      "source": [
        "# для каждого актера фильма\n",
        "# выведите на экран одной строкой\n",
        "# FirstName LastName is an actor in MovieName\n",
        "# используйте конкатенацию и форматирование строк\n",
        "# hint: actor['name'] - имя актера\n",
        "# movie['original title'] - название фильма\n",
        "for actor in movie['cast']:\n",
        "  print(f\"{actor['name']} is an actor in {movie['original title']}\")"
      ],
      "metadata": {
        "id": "IHmsLx-YyPCG",
        "colab": {
          "base_uri": "https://localhost:8080/"
        },
        "outputId": "e14ba66d-4596-4df4-e238-9f3e265dc0a7"
      },
      "execution_count": 6,
      "outputs": [
        {
          "output_type": "stream",
          "name": "stdout",
          "text": [
            "Hugh Dancy is an actor in Hannibal\n",
            "Mads Mikkelsen is an actor in Hannibal\n",
            "Caroline Dhavernas is an actor in Hannibal\n",
            "Laurence Fishburne is an actor in Hannibal\n",
            "Scott Thompson is an actor in Hannibal\n",
            "Aaron Abrams is an actor in Hannibal\n",
            "Gillian Anderson is an actor in Hannibal\n",
            "Hettienne Park is an actor in Hannibal\n",
            "Kacey Rohl is an actor in Hannibal\n",
            "Lara Jean Chorostecki is an actor in Hannibal\n",
            "Raúl Esparza is an actor in Hannibal\n",
            "Vladimir Jon Cubrt is an actor in Hannibal\n",
            "Katharine Isabelle is an actor in Hannibal\n",
            "Kalen Davidson is an actor in Hannibal\n",
            "Eddie Izzard is an actor in Hannibal\n",
            "Richard Armitage is an actor in Hannibal\n",
            "Gina Torres is an actor in Hannibal\n",
            "Rutina Wesley is an actor in Hannibal\n",
            "Joe Anderson is an actor in Hannibal\n",
            "Fortunato Cerlino is an actor in Hannibal\n",
            "Cynthia Nixon is an actor in Hannibal\n",
            "Tao Okamoto is an actor in Hannibal\n",
            "Anna Chlumsky is an actor in Hannibal\n",
            "Nina Arianda is an actor in Hannibal\n",
            "Krista Patton is an actor in Hannibal\n",
            "Alana Bridgewater is an actor in Hannibal\n",
            "Michael Pitt is an actor in Hannibal\n",
            "Dan Fogler is an actor in Hannibal\n",
            "Daniel Kash is an actor in Hannibal\n",
            "Glenn Fleshler is an actor in Hannibal\n",
            "Mark Rendall is an actor in Hannibal\n",
            "Torianna Lee is an actor in Hannibal\n",
            "Patrick Garrow is an actor in Hannibal\n",
            "Rinaldo Rocco is an actor in Hannibal\n",
            "Jeremy Davies is an actor in Hannibal\n",
            "Chris Diamantopoulos is an actor in Hannibal\n",
            "Zachary Quinto is an actor in Hannibal\n",
            "Giorgio Lupano is an actor in Hannibal\n",
            "Ellen Muth is an actor in Hannibal\n",
            "Mark O'Brien is an actor in Hannibal\n",
            "Ryan Field is an actor in Hannibal\n",
            "Dwight Ireland is an actor in Hannibal\n",
            "Gabriel Browning Rodriguez is an actor in Hannibal\n",
            "Demore Barnes is an actor in Hannibal\n",
            "Ted Ludzik is an actor in Hannibal\n",
            "Toni Ellwand is an actor in Hannibal\n",
            "David Calderisi is an actor in Hannibal\n",
            "Jonathan Tucker is an actor in Hannibal\n",
            "Trudy Weiss is an actor in Hannibal\n",
            "Tom Wisdom is an actor in Hannibal\n"
          ]
        }
      ]
    },
    {
      "cell_type": "code",
      "source": [
        "# сохраним краткое описание фильма в переменную\n",
        "\n",
        "synopsis = movie['plot'][0]\n",
        "\n",
        "# приведите этот текст к нижнему регистру\n",
        "\n",
        "synopsis_lower = synopsis.lower()\n",
        "\n",
        "# выведите на экран первые 100 символов\n",
        "\n",
        "print(synopsis_lower[:175])\n",
        "\n",
        "print(synopsis_lower.split()[:175])"
      ],
      "metadata": {
        "id": "gWnW9d-9w9fC",
        "colab": {
          "base_uri": "https://localhost:8080/"
        },
        "outputId": "47becc3f-db4f-4bbd-9556-0e102f6e29ae"
      },
      "execution_count": 7,
      "outputs": [
        {
          "output_type": "stream",
          "name": "stdout",
          "text": [
            "explores the early relationship between renowned psychiatrist hannibal lecter and a young fbi criminal profiler who is haunted by his ability to empathize with serial killers.\n",
            "['explores', 'the', 'early', 'relationship', 'between', 'renowned', 'psychiatrist', 'hannibal', 'lecter', 'and', 'a', 'young', 'fbi', 'criminal', 'profiler', 'who', 'is', 'haunted', 'by', 'his', 'ability', 'to', 'empathize', 'with', 'serial', 'killers.']\n"
          ]
        }
      ]
    },
    {
      "cell_type": "code",
      "source": [
        "# посмотрите, сколько раз повторяются слова из заголовка фильма\n",
        "# для этого приведите название фильма к нижнему регистру\n",
        "# и используйте цикл for, если слов в заголовке несколько\n",
        "\n",
        "for word in movie['original title'].lower().split():\n",
        "  print(word)\n",
        "  print(synopsis_lower.count(word))"
      ],
      "metadata": {
        "colab": {
          "base_uri": "https://localhost:8080/"
        },
        "id": "NXRD_5tIuSw0",
        "outputId": "95a48f77-7df8-44dc-e82a-fc01cf861ee2"
      },
      "execution_count": 8,
      "outputs": [
        {
          "output_type": "stream",
          "name": "stdout",
          "text": [
            "hannibal\n",
            "1\n"
          ]
        }
      ]
    },
    {
      "cell_type": "code",
      "source": [
        "# разбейте текст на слова и выведете первые 10 слов на экран, не используйте print\n",
        "\n",
        "words = synopsis_lower.split()\n",
        "words[:15]"
      ],
      "metadata": {
        "colab": {
          "base_uri": "https://localhost:8080/"
        },
        "id": "boKgESK6vyvv",
        "outputId": "2bde2a4c-193c-493c-ee9e-683015cbdc14"
      },
      "execution_count": 9,
      "outputs": [
        {
          "output_type": "execute_result",
          "data": {
            "text/plain": [
              "['explores',\n",
              " 'the',\n",
              " 'early',\n",
              " 'relationship',\n",
              " 'between',\n",
              " 'renowned',\n",
              " 'psychiatrist',\n",
              " 'hannibal',\n",
              " 'lecter',\n",
              " 'and',\n",
              " 'a',\n",
              " 'young',\n",
              " 'fbi',\n",
              " 'criminal',\n",
              " 'profiler']"
            ]
          },
          "metadata": {},
          "execution_count": 9
        }
      ]
    },
    {
      "cell_type": "markdown",
      "source": [
        "# Задачи на работу со списками"
      ],
      "metadata": {
        "id": "V4_tbOOR7xlZ"
      }
    },
    {
      "cell_type": "code",
      "source": [
        "# создайте список актеров фильма\n",
        "# сначала создайте пустой список\n",
        "# затем используйте цикл for и append\n",
        "\n",
        "actors = []\n",
        "\n",
        "for actor in movie['cast']:\n",
        "  actors.append(actor['name'])\n",
        "\n",
        "# выведите на экран первые 10 актеров из списка\n",
        "\n",
        "actors[:10]"
      ],
      "metadata": {
        "id": "p0XJ2Ib07wqf",
        "colab": {
          "base_uri": "https://localhost:8080/"
        },
        "outputId": "605e001c-8a95-42b5-de0f-91ed175be0cf"
      },
      "execution_count": 10,
      "outputs": [
        {
          "output_type": "execute_result",
          "data": {
            "text/plain": [
              "['Hugh Dancy',\n",
              " 'Mads Mikkelsen',\n",
              " 'Caroline Dhavernas',\n",
              " 'Laurence Fishburne',\n",
              " 'Scott Thompson',\n",
              " 'Aaron Abrams',\n",
              " 'Gillian Anderson',\n",
              " 'Hettienne Park',\n",
              " 'Kacey Rohl',\n",
              " 'Lara Jean Chorostecki']"
            ]
          },
          "metadata": {},
          "execution_count": 10
        }
      ]
    },
    {
      "cell_type": "code",
      "source": [
        "# сгенерируйте список режиссеров фильма\n",
        "# hint: для запроса к имени используйте x['name']\n",
        "\n",
        "writer = [x['name'] for x in movie['writer']]\n",
        "\n",
        "# выведите на экран количество режиссеров фильма и их имена\n",
        "# используйте f-форматирование строк и \\n для переноса на новую строку\n",
        "\n",
        "print(f\"Всего режиссеров: {len(writer)}\\nИмена: {' '.join(map(str, writer))}\")"
      ],
      "metadata": {
        "id": "aVekoj5u8SgK",
        "colab": {
          "base_uri": "https://localhost:8080/"
        },
        "outputId": "60688666-3ccf-4cc8-85ec-2f4cc132eb32"
      },
      "execution_count": 11,
      "outputs": [
        {
          "output_type": "stream",
          "name": "stdout",
          "text": [
            "Всего режиссеров: 3\n",
            "Имена: Bryan Fuller Bryan Fuller Bryan Fuller\n"
          ]
        }
      ]
    },
    {
      "cell_type": "code",
      "source": [
        "# списки тоже можно контатенировать, сложите список актеров и режиссеров\n",
        "# выведите несколько первых и последних элементов списка\n",
        "\n",
        "involved = actors + writer\n",
        "\n",
        "print(involved[:5])\n",
        "print(involved[-1:])"
      ],
      "metadata": {
        "id": "r4tYj-JE9qDD",
        "colab": {
          "base_uri": "https://localhost:8080/"
        },
        "outputId": "a040117d-6789-4a42-a605-a0b2facb82b2"
      },
      "execution_count": 12,
      "outputs": [
        {
          "output_type": "stream",
          "name": "stdout",
          "text": [
            "['Hugh Dancy', 'Mads Mikkelsen', 'Caroline Dhavernas', 'Laurence Fishburne', 'Scott Thompson']\n",
            "['Bryan Fuller']\n"
          ]
        }
      ]
    },
    {
      "cell_type": "code",
      "source": [
        "# выполните сортировку списка актеров по алфавиту\n",
        "\n",
        "print(sorted(actors)[:5])"
      ],
      "metadata": {
        "id": "E2EWKiA6_Ech",
        "colab": {
          "base_uri": "https://localhost:8080/"
        },
        "outputId": "3f77545d-9e1e-43fb-ead6-4b6ac14983fb"
      },
      "execution_count": 13,
      "outputs": [
        {
          "output_type": "stream",
          "name": "stdout",
          "text": [
            "['Aaron Abrams', 'Alana Bridgewater', 'Anna Chlumsky', 'Caroline Dhavernas', 'Chris Diamantopoulos']\n"
          ]
        }
      ]
    },
    {
      "cell_type": "code",
      "source": [
        "# удалите в этом списке первый элемент с помощью индексации\n",
        "\n",
        "actors.remove(actors[0])\n",
        "\n",
        "print(actors[:5])"
      ],
      "metadata": {
        "colab": {
          "base_uri": "https://localhost:8080/"
        },
        "id": "pJZygt6u40ix",
        "outputId": "bb41b1fb-1565-4584-cdc7-d40de14e3230"
      },
      "execution_count": 14,
      "outputs": [
        {
          "output_type": "stream",
          "name": "stdout",
          "text": [
            "['Mads Mikkelsen', 'Caroline Dhavernas', 'Laurence Fishburne', 'Scott Thompson', 'Aaron Abrams']\n"
          ]
        }
      ]
    },
    {
      "cell_type": "code",
      "source": [
        "# удалите нелюбимого актера с помощью ввода имен\n",
        "\n",
        "#actors.remove('Aaron Abrams')\n",
        "\n",
        "# проверьте, есть ли это имя в списке актеров с помощью in\n",
        "\n",
        "'Laurence Fishburne' not in actors"
      ],
      "metadata": {
        "colab": {
          "base_uri": "https://localhost:8080/"
        },
        "id": "wExxAtlg5PzX",
        "outputId": "bffee337-499e-4847-b5b5-2ddf730d7a95"
      },
      "execution_count": 15,
      "outputs": [
        {
          "output_type": "execute_result",
          "data": {
            "text/plain": [
              "False"
            ]
          },
          "metadata": {},
          "execution_count": 15
        }
      ]
    },
    {
      "cell_type": "markdown",
      "source": [
        "# Задачи на работу со словарями"
      ],
      "metadata": {
        "id": "8sRhKPLTFAuF"
      }
    },
    {
      "cell_type": "code",
      "source": [
        "actors[0], actors[1], actors[2], actors[3], actors[4]"
      ],
      "metadata": {
        "colab": {
          "base_uri": "https://localhost:8080/"
        },
        "id": "1OM5zBfOfYFB",
        "outputId": "1a3776e7-38cb-463d-9d8f-6c09a3ad21e0"
      },
      "execution_count": 16,
      "outputs": [
        {
          "output_type": "execute_result",
          "data": {
            "text/plain": [
              "('Mads Mikkelsen',\n",
              " 'Caroline Dhavernas',\n",
              " 'Laurence Fishburne',\n",
              " 'Scott Thompson',\n",
              " 'Aaron Abrams')"
            ]
          },
          "metadata": {},
          "execution_count": 16
        }
      ]
    },
    {
      "cell_type": "code",
      "source": [
        "# создадим карточку любого актера из нашего фильма\n",
        "\n",
        "people = ia.search_person(actors[0])\n",
        "\n",
        "for person in people:\n",
        "   print(person.personID, person['name'])"
      ],
      "metadata": {
        "id": "2PuExDCoEFG_",
        "colab": {
          "base_uri": "https://localhost:8080/"
        },
        "outputId": "16630fea-85fa-438f-8041-5b77ce125a23"
      },
      "execution_count": 17,
      "outputs": [
        {
          "output_type": "stream",
          "name": "stdout",
          "text": [
            "0586568 Mads Mikkelsen\n",
            "0586565 Lars Mikkelsen\n",
            "14897359 Madds Mikkelsen\n",
            "1542711 Mads Michelsen\n",
            "0586337 Mats Mikalsen Kristensen\n",
            "0295740 Jarl Friis-Mikkelsen\n",
            "1459488 Kirstine Rosenkrands Mikkelsen\n",
            "1852378 Thomas J. Mikkelsen\n",
            "9905276 Mads Michelsen\n",
            "3520020 Nikolas Mikkelsen\n",
            "3606299 Ronny S. Mikkelsen\n",
            "1098711 Claus Mikkelsen\n",
            "7956313 Nils Mikkelsen\n",
            "11380787 Lukas Robert Burns Mikkelsen\n",
            "6457714 Anders Mikkelsen\n",
            "7806224 Mourits Mikkelsen\n",
            "1333943 Jacqueline Friis-Mikkelsen\n",
            "13736075 Mathias Mikkelsen\n",
            "4269178 Isabel Früs-Mikkelsen\n",
            "8942674 Nils Mikkelsen Gaup\n"
          ]
        }
      ]
    },
    {
      "cell_type": "code",
      "source": [
        "# запишем в перменную только один результат\n",
        "\n",
        "person = ia.get_person(people[0].personID)"
      ],
      "metadata": {
        "id": "2x_WWik8Indr"
      },
      "execution_count": 22,
      "outputs": []
    },
    {
      "cell_type": "code",
      "source": [
        "person"
      ],
      "metadata": {
        "colab": {
          "base_uri": "https://localhost:8080/"
        },
        "id": "dVzht0lXgQqn",
        "outputId": "0d3298e6-4524-460f-d720-c5ecde17c35e"
      },
      "execution_count": 23,
      "outputs": [
        {
          "output_type": "execute_result",
          "data": {
            "text/plain": [
              "<Person id:0586568[http] name:_Mads Mikkelsen_>"
            ]
          },
          "metadata": {},
          "execution_count": 23
        }
      ]
    },
    {
      "cell_type": "code",
      "source": [
        "person.keys()"
      ],
      "metadata": {
        "colab": {
          "base_uri": "https://localhost:8080/"
        },
        "id": "HWK3eAaQJL0S",
        "outputId": "e2dd4aea-9020-4233-f307-547a5f519770"
      },
      "execution_count": 24,
      "outputs": [
        {
          "output_type": "execute_result",
          "data": {
            "text/plain": [
              "['headshot',\n",
              " 'imdbID',\n",
              " 'name',\n",
              " 'filmography',\n",
              " 'canonical name',\n",
              " 'long imdb name',\n",
              " 'long imdb canonical name',\n",
              " 'full-size headshot']"
            ]
          },
          "metadata": {},
          "execution_count": 24
        }
      ]
    },
    {
      "cell_type": "code",
      "source": [
        "person.items()"
      ],
      "metadata": {
        "id": "jRE3qJuUJoKv",
        "colab": {
          "base_uri": "https://localhost:8080/"
        },
        "outputId": "9eeec996-b7c6-419b-c090-83c5698625cb"
      },
      "execution_count": 25,
      "outputs": [
        {
          "output_type": "execute_result",
          "data": {
            "text/plain": [
              "[('headshot',\n",
              "  'https://m.media-amazon.com/images/M/MV5BMTcyMTU5MzgxMF5BMl5BanBnXkFtZTYwMDI0NjI1._V1_QL75_UX140_CR0,1,140,207_.jpg'),\n",
              " ('imdbID', '0586568'),\n",
              " ('name', 'Mads Mikkelsen'),\n",
              " ('filmography',\n",
              "  {'actor': [<Movie id:8146842[http] title:_The Billion Dollar Spy (None)_>,\n",
              "    <Movie id:20220834[http] title:_The Black Kaiser (None)_>,\n",
              "    <Movie id:23172090[http] title:_Dust Bunny (None)_>,\n",
              "    <Movie id:20561198[http] title:_The Promised Land (2023)_>,\n",
              "    <Movie id:1462764[http] title:_Indiana Jones and the Dial of Destiny (2023)_>,\n",
              "    <Movie id:4123432[http] title:_Fantastic Beasts: The Secrets of Dumbledore (2022)_>,\n",
              "    <Movie id:14690498[http] title:_Return of the Goat II: New World Order (2021)_>,\n",
              "    <Movie id:2076822[http] title:_Chaos Walking (2021)_>,\n",
              "    <Movie id:11655202[http] title:_Riders of Justice (2020)_>,\n",
              "    <Movie id:10288566[http] title:_Another Round (2020)_>,\n",
              "    <Movie id:5807606[http] title:_Death Stranding (2019)_>,\n",
              "    <Movie id:4139588[http] title:_Polar (None)_>,\n",
              "    <Movie id:6938828[http] title:_At Eternity's Gate (2018)_>,\n",
              "    <Movie id:6820256[http] title:_Arctic (2018)_>,\n",
              "    <Movie id:3748528[http] title:_Rogue One: A Star Wars Story (2016)_>,\n",
              "    <Movie id:6180632[http] title:_Le Fantôme (2016)_>,\n",
              "    <Movie id:1211837[http] title:_Doctor Strange (2016)_>,\n",
              "    <Movie id:2243973[http] title:_Hannibal (2015) (2013)_>,\n",
              "    <Movie id:4870276[http] title:_Rihanna: Bitch Better Have My Money (2015)_>,\n",
              "    <Movie id:3877674[http] title:_Men & Chicken (2015)_>,\n",
              "    <Movie id:2720680[http] title:_The Salvation (2014)_>,\n",
              "    <Movie id:2054790[http] title:_Age of Uprising: The Legend of Michael Kohlhaas (2013)_>,\n",
              "    <Movie id:1196948[http] title:_Charlie Countryman (2013)_>,\n",
              "    <Movie id:2273326[http] title:_Move On (2012)_>,\n",
              "    <Movie id:2106476[http] title:_The Hunt (2012)_>,\n",
              "    <Movie id:1276419[http] title:_A Royal Affair (2012)_>,\n",
              "    <Movie id:1509767[http] title:_The Three Musketeers (2011)_>,\n",
              "    <Movie id:1606636[http] title:_Moomins and the Comet Chase (2010)_>,\n",
              "    <Movie id:0800320[http] title:_Clash of the Titans (2010)_>,\n",
              "    <Movie id:1223934[http] title:_The Door (2009)_>,\n",
              "    <Movie id:0862467[http] title:_Valhalla Rising (2009)_>,\n",
              "    <Movie id:1023441[http] title:_Coco Chanel & Igor Stravinsky (2009)_>,\n",
              "    <Movie id:1139644[http] title:_Quantum of Solace (2008)_>,\n",
              "    <Movie id:0920458[http] title:_Flame & Citron (2008)_>,\n",
              "    <Movie id:0381061[http] title:_Casino Royale (2006)_>,\n",
              "    <Movie id:0482957[http] title:_Exit (None)_>,\n",
              "    <Movie id:0855975[http] title:_Prague (2006)_>,\n",
              "    <Movie id:0457655[http] title:_After the Wedding (2006)_>,\n",
              "    <Movie id:0480862[http] title:_Julie (2005)_>,\n",
              "    <Movie id:0418455[http] title:_Adam's Apples (2005)_>,\n",
              "    <Movie id:0434695[http] title:_Klovn (2005)_>,\n",
              "    <Movie id:0396184[http] title:_Pusher II (2004)_>,\n",
              "    <Movie id:0349683[http] title:_King Arthur (2004)_>,\n",
              "    <Movie id:0220261[http] title:_Unit One (2004) (2000)_>,\n",
              "    <Movie id:0339806[http] title:_Torremolinos 73 (2003)_>,\n",
              "    <Movie id:0342492[http] title:_The Green Butchers (2003)_>,\n",
              "    <Movie id:0344128[http] title:_Now (2003)_>,\n",
              "    <Movie id:0387188[http] title:_The Boy Below (2003)_>,\n",
              "    <Movie id:0329767[http] title:_Wilbur Wants to Kill Himself (2002)_>,\n",
              "    <Movie id:0315543[http] title:_Open Hearts (2002)_>,\n",
              "    <Movie id:0281924[http] title:_I Am Dina (2002)_>,\n",
              "    <Movie id:0273719[http] title:_Shake It (2001)_>,\n",
              "    <Movie id:0257930[http] title:_Monas verden (2001)_>,\n",
              "    <Movie id:0236027[http] title:_Flickering Lights (2000)_>,\n",
              "    <Movie id:0497840[http] title:_Tom Merritt (1999)_>,\n",
              "    <Movie id:0161292[http] title:_Bleeder (1999)_>,\n",
              "    <Movie id:0138647[http] title:_Angel of the Night (1998)_>,\n",
              "    <Movie id:0142964[http] title:_Wildside (1998)_>,\n",
              "    <Movie id:7351534[http] title:_The Caretaker (1997)_>,\n",
              "    <Movie id:0150015[http] title:_Café Hector (1996)_>,\n",
              "    <Movie id:0117407[http] title:_Pusher (1996)_>,\n",
              "    <Movie id:0115708[http] title:_Blomsterfangen (1996)_>],\n",
              "   'additional crew': [<Movie id:10288566[http] title:_Another Round (2020)_>,\n",
              "    <Movie id:5807606[http] title:_Death Stranding (2019)_>],\n",
              "   'writer': [<Movie id:20220834[http] title:_The Black Kaiser (None)_>,\n",
              "    <Movie id:6473822[http] title:_Level Up Norge (2018)_>],\n",
              "   'producer': [<Movie id:20220834[http] title:_The Black Kaiser (None)_>,\n",
              "    <Movie id:4139588[http] title:_Polar (None)_>],\n",
              "   'soundtrack': [<Movie id:2243973[http] title:_Hannibal (2013)_>],\n",
              "   'thanks': [<Movie id:10288566[http] title:_Another Round (2020)_>,\n",
              "    <Movie id:7308198[http] title:_Brexitannia (2017)_>,\n",
              "    <Movie id:6599762[http] title:_Doctor Strange: The Score-Cerer Supreme (2017)_>,\n",
              "    <Movie id:1223934[http] title:_The Door (2009)_>,\n",
              "    <Movie id:0867609[http] title:_With Your Permission (2007)_>],\n",
              "   'self': [<Movie id:28812650[http] title:_The Making of Indiana Jones and the Dial of Destiny (2023)_>,\n",
              "    <Movie id:21277542[http] title:_D23 Inside Disney (2023)_>,\n",
              "    <Movie id:0482346[http] title:_Entertainment Tonight Canada (2023)_>,\n",
              "    <Movie id:8596744[http] title:_IMDb on the Scene - Interviews (2023)_>,\n",
              "    <Movie id:6581590[http] title:_Cannes Film Festival (2023) (2012)_>,\n",
              "    <Movie id:27455918[http] title:_Star Wars Celebration LIVE! 2023 (2023)_>,\n",
              "    <Movie id:11162728[http] title:_Passage des arts (2022)_>,\n",
              "    <Movie id:21925210[http] title:_Fantastic Beasts: The Secrets of Dumbledore - Mads Mikkelsen's Grindelwald (2022)_>,\n",
              "    <Movie id:21988076[http] title:_Fantastic Beasts: The Secrets of Dumbledore - Unlocking Dumbledore's Past (2022)_>,\n",
              "    <Movie id:0911896[http] title:_Made in Hollywood (2021) (2010)_>,\n",
              "    <Movie id:5106590[http] title:_IMDb Originals (2021)_>,\n",
              "    <Movie id:8638066[http] title:_Hollywood Insider (2021)_>,\n",
              "    <Movie id:0315025[http] title:_Leute heute (2021) (2015)_>,\n",
              "    <Movie id:12544796[http] title:_The 26th Annual Critics' Choice Awards (2021)_>,\n",
              "    <Movie id:16852598[http] title:_The Big Picture (2021)_>,\n",
              "    <Movie id:0320037[http] title:_Jimmy Kimmel Live! (2021) (2016)_>,\n",
              "    <Movie id:13268598[http] title:_The United Nations Association 2020 Global Citizen Awards & 13th Annual 2020 West Coast Global Forum (2020)_>,\n",
              "    <Movie id:13169030[http] title:_Festival de cine de San Sebastián 2020 - Gala de clausura (2020)_>,\n",
              "    <Movie id:10921886[http] title:_The United Nations Association 2019 Global Citizen Awards & 12th Annual West Coast Global Forum (2019)_>,\n",
              "    <Movie id:10345020[http] title:_Arctic: Mads Mikkelsen (2019)_>,\n",
              "    <Movie id:10345012[http] title:_The Story Behind 'Arctic' (2019)_>,\n",
              "    <Movie id:4264964[http] title:_Evening Urgant (2019)_>,\n",
              "    <Movie id:3503424[http] title:_Celebrity Page (2019)_>,\n",
              "    <Movie id:2190581[http] title:_C à vous (2019)_>,\n",
              "    <Movie id:0094547[http] title:_Sidewalks Entertainment (2018)_>,\n",
              "    <Movie id:4932500[http] title:_IMDb on the Scene (2018)_>,\n",
              "    <Movie id:5129382[http] title:_The Return of Superman (2017)_>,\n",
              "    <Movie id:6821234[http] title:_The Stories: The Making of 'Rogue One: A Star Wars Story' (2017)_>,\n",
              "    <Movie id:6599758[http] title:_Doctor Strange: Across Time and Space (2017)_>,\n",
              "    <Movie id:6599666[http] title:_Doctor Strange: A Strange Transformation (2017)_>,\n",
              "    <Movie id:6599680[http] title:_Doctor Strange: Strange Company (2017)_>,\n",
              "    <Movie id:6599752[http] title:_Doctor Strange: The Fabric of Reality (2017)_>,\n",
              "    <Movie id:1468760[http] title:_Alan Carr: Chatty Man (2016)_>,\n",
              "    <Movie id:13535656[http] title:_What order should you watch Star Wars? (2016)_>,\n",
              "    <Movie id:8527880[http] title:_Last Week (2016)_>,\n",
              "    <Movie id:3644198[http] title:_Good Morning Britain (2016)_>,\n",
              "    <Movie id:5368216[http] title:_Rotten Tomatoes (2016)_>,\n",
              "    <Movie id:6323140[http] title:_Rogue One: A Star Wars Story - World Premiere (2016)_>,\n",
              "    <Movie id:5715678[http] title:_The Star Wars Show (2016)_>,\n",
              "    <Movie id:0320017[http] title:_Go' morgen Danmark (2016)_>,\n",
              "    <Movie id:0295122[http] title:_Movie Surfers (2016)_>,\n",
              "    <Movie id:4796414[http] title:_A Bond for Life: How James Bond Changed My Life (2016)_>,\n",
              "    <Movie id:5973624[http] title:_Hannibal: Season Three - Getting the Old Scent Again: Re-imagining Red Dragon (2015)_>,\n",
              "    <Movie id:4397770[http] title:_Hannibal: This Is My Design (2014)_>,\n",
              "    <Movie id:0426701[http] title:_Le grand journal de Canal+ (2014) (2013)_>,\n",
              "    <Movie id:4525806[http] title:_The Necessary Death of Charlie Countryman: The Making of 'The Necessary Death of Charlie Countryman' (2014)_>,\n",
              "    <Movie id:9813478[http] title:_Festival International du Film de Marrakech 2013 (2013)_>,\n",
              "    <Movie id:3204112[http] title:_A Taste for Killing (2013)_>,\n",
              "    <Movie id:3204080[http] title:_Hannibal Reborn (2013)_>,\n",
              "    <Movie id:0111920[http] title:_Cinema 3 (2013)_>,\n",
              "    <Movie id:3159626[http] title:_The 2012 European Film Awards (2012)_>,\n",
              "    <Movie id:0939787[http] title:_Aftenshowet (2012)_>,\n",
              "    <Movie id:2188835[http] title:_NWR (2012)_>,\n",
              "    <Movie id:3164058[http] title:_The 2011 European Film Awards (2011)_>,\n",
              "    <Movie id:1821992[http] title:_Pokerfjæs (2011)_>,\n",
              "    <Movie id:1869356[http] title:_Danmarks Indsamling 2011 (2011)_>,\n",
              "    <Movie id:1612376[http] title:_Janela Indiscreta (2010)_>,\n",
              "    <Movie id:1016283[http] title:_Xposé (2010)_>,\n",
              "    <Movie id:0930831[http] title:_Gomorron (2010)_>,\n",
              "    <Movie id:1434322[http] title:_Up Close with Carrie Keagan (2010)_>,\n",
              "    <Movie id:1630527[http] title:_Clash of the Titans: A G4 Special (2010)_>,\n",
              "    <Movie id:0081857[http] title:_Entertainment Tonight (2010)_>,\n",
              "    <Movie id:1603244[http] title:_Zulu Awards '10 (2010)_>,\n",
              "    <Movie id:1366792[http] title:_Skavlan (2009)_>,\n",
              "    <Movie id:1310630[http] title:_The 2008 European Film Awards (2008)_>,\n",
              "    <Movie id:1291071[http] title:_Produktionsdagbog: Prag - Berlin - København (2008)_>,\n",
              "    <Movie id:1067896[http] title:_Só Visto (2008)_>,\n",
              "    <Movie id:0870876[http] title:_Meyerheim (2008)_>,\n",
              "    <Movie id:1300608[http] title:_Zulu Awards '08 - Den røde løber (2008)_>,\n",
              "    <Movie id:1259751[http] title:_The 2007 European Film Awards (2007)_>,\n",
              "    <Movie id:0961211[http] title:_Zulu Awards '07 (2007)_>,\n",
              "    <Movie id:0961212[http] title:_Zulu Awards '07 - Den røde løber (2007)_>,\n",
              "    <Movie id:0922343[http] title:_The 2006 European Film Awards (2006)_>,\n",
              "    <Movie id:0930813[http] title:_FörKväll (2006)_>,\n",
              "    <Movie id:0485525[http] title:_Noche Hache (2006)_>,\n",
              "    <Movie id:10926768[http] title:_Casino Royale: Royal World Premiere (2006)_>,\n",
              "    <Movie id:10927140[http] title:_Casino Royale Special (2006)_>,\n",
              "    <Movie id:0192897[http] title:_Film 2018 (2006)_>,\n",
              "    <Movie id:0907299[http] title:_Becoming Bond (2006)_>,\n",
              "    <Movie id:0494255[http] title:_MTV Europe Music Awards 2006 (2006)_>,\n",
              "    <Movie id:0929765[http] title:_James Bond Casino (2006)_>,\n",
              "    <Movie id:0380951[http] title:_Senkveld med Thomas og Harald (2006)_>,\n",
              "    <Movie id:0877144[http] title:_Joonas (2006)_>,\n",
              "    <Movie id:0757072[http] title:_Dinas dates (2006)_>,\n",
              "    <Movie id:0820172[http] title:_Zulu Awards '05 (2005)_>,\n",
              "    <Movie id:0320016[http] title:_Go' aften Danmark (2005) (2002)_>,\n",
              "    <Movie id:0465814[http] title:_Godnatt, Sverige (2005)_>,\n",
              "    <Movie id:0426792[http] title:_Sådan ligger landet (2005)_>,\n",
              "    <Movie id:0453350[http] title:_Bodilprisen 2005 (2005)_>,\n",
              "    <Movie id:0449845[http] title:_Blood on the Land: The Making of a King (2004)_>,\n",
              "    <Movie id:0386978[http] title:_Spot (2004)_>,\n",
              "    <Movie id:0382386[http] title:_Zulu Awards '03 (2003)_>,\n",
              "    <Movie id:0421514[http] title:_'Así se hizo' - Torremolinos 73 (2003)_>,\n",
              "    <Movie id:0398089[http] title:_De grønne slagtere - en virkelig god marinade (2003)_>,\n",
              "    <Movie id:0327378[http] title:_Viva (2003)_>,\n",
              "    <Movie id:0352053[http] title:_Filmland (2003)_>,\n",
              "    <Movie id:0356429[http] title:_Bodilprisen 2003 (2003)_>,\n",
              "    <Movie id:0452115[http] title:_'Elsker dig for evigt' på filmfestival (2003)_>,\n",
              "    <Movie id:7848950[http] title:_Agnetas nyårskarameller (2003)_>,\n",
              "    <Movie id:0340466[http] title:_Zulu Awards '02 (2002)_>,\n",
              "    <Movie id:0319953[http] title:_Bertelsen - de uaktuelle nyheder (2002)_>,\n",
              "    <Movie id:0320837[http] title:_Banjos likørstue (2002)_>,\n",
              "    <Movie id:0410674[http] title:_Stjerner i manegen (2001)_>,\n",
              "    <Movie id:0348957[http] title:_Kultur-Journalen (2001)_>,\n",
              "    <Movie id:0405730[http] title:_Bag om filmen 'Bleeder' (1999)_>,\n",
              "    <Movie id:0366022[http] title:_Harry Måneskin (1990)_>],\n",
              "   'archive footage': [<Movie id:23180594[http] title:_Disparu (2023)_>,\n",
              "    <Movie id:29294313[http] title:_Top 5 Hollywood DISASTERS of Summer 2023! Disney and Netflix Lose! (2023)_>,\n",
              "    <Movie id:29102841[http] title:_Mads Mikkelsen Destroys Woke Journalist (2023)_>,\n",
              "    <Movie id:16344772[http] title:_Pop Culture Crisis (2023)_>,\n",
              "    <Movie id:11465274[http] title:_RK Outpost (2023)_>,\n",
              "    <Movie id:11465472[http] title:_Josiah Rises (2023)_>,\n",
              "    <Movie id:14884396[http] title:_Echo Base Network (2023)_>,\n",
              "    <Movie id:15054972[http] title:_Movie Night Extravaganza (2022)_>,\n",
              "    <Movie id:9253782[http] title:_Blow up: Le web magazine cinéma d'Arte (2021)_>,\n",
              "    <Movie id:15346636[http] title:_Being James Bond: The Daniel Craig Story (2021)_>,\n",
              "    <Movie id:8638066[http] title:_Hollywood Insider (2020)_>,\n",
              "    <Movie id:0796171[http] title:_Timeshift (2015)_>,\n",
              "    <Movie id:4416750[http] title:_Welcome to the Basement (2014)_>,\n",
              "    <Movie id:1002838[http] title:_Chelsea Lately (2014)_>,\n",
              "    <Movie id:2841688[http] title:_Movie Guide (2013)_>,\n",
              "    <Movie id:1663615[http] title:_Z Hit-Paraden (2009)_>,\n",
              "    <Movie id:10783300[http] title:_Casino Royale: Deleted Scenes (2008)_>,\n",
              "    <Movie id:0192897[http] title:_Film 2018 (2008)_>,\n",
              "    <Movie id:0077082[http] title:_The South Bank Show (2008)_>,\n",
              "    <Movie id:15863912[http] title:_The Quantum of Solace (2008)_>]}),\n",
              " ('canonical name', 'Mikkelsen, Mads'),\n",
              " ('long imdb name', 'Mads Mikkelsen'),\n",
              " ('long imdb canonical name', 'Mikkelsen, Mads'),\n",
              " ('full-size headshot',\n",
              "  'https://m.media-amazon.com/images/M/MV5BMTcyMTU5MzgxMF5BMl5BanBnXkFtZTYwMDI0NjI1.jpg')]"
            ]
          },
          "metadata": {},
          "execution_count": 25
        }
      ]
    },
    {
      "cell_type": "code",
      "source": [
        "# составим из этих элементов карточку следующего вида\n",
        "# [\n",
        "#    актер :\n",
        "#             {\n",
        "#               фильмы : список фильмов\n",
        "#               жанры : список жанров\n",
        "#             }\n",
        "# ]\n",
        "#\n",
        "# начнем с создания списка фильмов\n",
        "# создаем пустой список\n",
        "\n",
        "films = []\n",
        "\n",
        "# для каждого фильма в person['filmography']['###']\n",
        "# вносим в список новый элемент\n",
        "\n",
        "for title in person['filmography']['actor']:\n",
        "  temp = title['title']\n",
        "  films.append(temp)\n",
        "\n",
        "films[:10]"
      ],
      "metadata": {
        "id": "rqL8zMq8JrTw",
        "colab": {
          "base_uri": "https://localhost:8080/"
        },
        "outputId": "b071a807-40cc-470f-fabd-bf71540bc4b8"
      },
      "execution_count": 26,
      "outputs": [
        {
          "output_type": "execute_result",
          "data": {
            "text/plain": [
              "['The Billion Dollar Spy',\n",
              " 'The Black Kaiser',\n",
              " 'Dust Bunny',\n",
              " 'The Promised Land',\n",
              " 'Indiana Jones and the Dial of Destiny',\n",
              " 'Fantastic Beasts: The Secrets of Dumbledore',\n",
              " 'Return of the Goat II: New World Order',\n",
              " 'Chaos Walking',\n",
              " 'Riders of Justice',\n",
              " 'Another Round']"
            ]
          },
          "metadata": {},
          "execution_count": 26
        }
      ]
    },
    {
      "cell_type": "code",
      "source": [
        "# теперь для каждого из найденных фильмов извлечем жанр\n",
        "# и тоже запишем все это в список\n",
        "\n",
        "# создаем пустой список для жанров\n",
        "\n",
        "genres = []\n",
        "\n",
        "# для каждого фильма из списка с фильмами\n",
        "# ищем подходящие фильмы в IMDB: ia.search_movie()\n",
        "# записываем в переменную ID этого фильма: ia.get_movie(movie.movieID)\n",
        "# извлекаем жанры, записываем во временную переменную\n",
        "# записываем жанры в список жанров\n",
        "\n",
        "for title in films[:5]:\n",
        "  film_list = ia.search_movie(title)\n",
        "  film = ia.get_movie(film_list[0].movieID)\n",
        "  temp = film['genres'][0]\n",
        "  genres.append(temp)\n",
        "\n",
        "genres"
      ],
      "metadata": {
        "id": "MdMA4jSBK5yZ",
        "colab": {
          "base_uri": "https://localhost:8080/"
        },
        "outputId": "2dbebbe2-5566-44c0-9157-44181bbdc46b"
      },
      "execution_count": 27,
      "outputs": [
        {
          "output_type": "execute_result",
          "data": {
            "text/plain": [
              "['Biography', 'Action', 'Action', 'Biography', 'Action']"
            ]
          },
          "metadata": {},
          "execution_count": 27
        }
      ]
    },
    {
      "cell_type": "code",
      "source": [
        "# наши жанры повторяются\n",
        "\n",
        "genres"
      ],
      "metadata": {
        "colab": {
          "base_uri": "https://localhost:8080/"
        },
        "id": "8Z36xTMcK6Xs",
        "outputId": "f26994d2-63f5-4df1-819d-773dd6721117"
      },
      "execution_count": 28,
      "outputs": [
        {
          "output_type": "execute_result",
          "data": {
            "text/plain": [
              "['Biography', 'Action', 'Action', 'Biography', 'Action']"
            ]
          },
          "metadata": {},
          "execution_count": 28
        }
      ]
    },
    {
      "cell_type": "code",
      "source": [
        "# преобразуем список во множество\n",
        "\n",
        "genres = set(genres)\n",
        "genres"
      ],
      "metadata": {
        "colab": {
          "base_uri": "https://localhost:8080/"
        },
        "id": "CZoZrdoLNs0l",
        "outputId": "fccb04c7-83f4-4ad9-feb0-39e263419160"
      },
      "execution_count": 29,
      "outputs": [
        {
          "output_type": "execute_result",
          "data": {
            "text/plain": [
              "{'Action', 'Biography'}"
            ]
          },
          "metadata": {},
          "execution_count": 29
        }
      ]
    },
    {
      "cell_type": "code",
      "source": [
        "# теперь мы можем собрать информацию об актере в карточку\n",
        "# [\n",
        "#    актер :\n",
        "#             {\n",
        "#               фильмы : список фильмов\n",
        "#               жанры : список жанров\n",
        "#             }\n",
        "# ]\n",
        "#\n",
        "\n",
        "# сначала создаем словарь с фильмами и жанрами\n",
        "\n",
        "actor = dict()\n",
        "actor['films'] = films\n",
        "actor['genres'] = genres\n",
        "actor"
      ],
      "metadata": {
        "id": "_RtAgCoRN033",
        "colab": {
          "base_uri": "https://localhost:8080/"
        },
        "outputId": "03bacfd0-3021-4804-9cc6-32265ea60430"
      },
      "execution_count": 30,
      "outputs": [
        {
          "output_type": "execute_result",
          "data": {
            "text/plain": [
              "{'films': ['The Billion Dollar Spy',\n",
              "  'The Black Kaiser',\n",
              "  'Dust Bunny',\n",
              "  'The Promised Land',\n",
              "  'Indiana Jones and the Dial of Destiny',\n",
              "  'Fantastic Beasts: The Secrets of Dumbledore',\n",
              "  'Return of the Goat II: New World Order',\n",
              "  'Chaos Walking',\n",
              "  'Riders of Justice',\n",
              "  'Another Round',\n",
              "  'Death Stranding',\n",
              "  'Polar',\n",
              "  \"At Eternity's Gate\",\n",
              "  'Arctic',\n",
              "  'Rogue One: A Star Wars Story',\n",
              "  'Le Fantôme',\n",
              "  'Doctor Strange',\n",
              "  'Hannibal',\n",
              "  'Rihanna: Bitch Better Have My Money',\n",
              "  'Men & Chicken',\n",
              "  'The Salvation',\n",
              "  'Age of Uprising: The Legend of Michael Kohlhaas',\n",
              "  'Charlie Countryman',\n",
              "  'Move On',\n",
              "  'The Hunt',\n",
              "  'A Royal Affair',\n",
              "  'The Three Musketeers',\n",
              "  'Moomins and the Comet Chase',\n",
              "  'Clash of the Titans',\n",
              "  'The Door',\n",
              "  'Valhalla Rising',\n",
              "  'Coco Chanel & Igor Stravinsky',\n",
              "  'Quantum of Solace',\n",
              "  'Flame & Citron',\n",
              "  'Casino Royale',\n",
              "  'Exit',\n",
              "  'Prague',\n",
              "  'After the Wedding',\n",
              "  'Julie',\n",
              "  \"Adam's Apples\",\n",
              "  'Klovn',\n",
              "  'Pusher II',\n",
              "  'King Arthur',\n",
              "  'Unit One',\n",
              "  'Torremolinos 73',\n",
              "  'The Green Butchers',\n",
              "  'Now',\n",
              "  'The Boy Below',\n",
              "  'Wilbur Wants to Kill Himself',\n",
              "  'Open Hearts',\n",
              "  'I Am Dina',\n",
              "  'Shake It',\n",
              "  'Monas verden',\n",
              "  'Flickering Lights',\n",
              "  'Tom Merritt',\n",
              "  'Bleeder',\n",
              "  'Angel of the Night',\n",
              "  'Wildside',\n",
              "  'The Caretaker',\n",
              "  'Café Hector',\n",
              "  'Pusher',\n",
              "  'Blomsterfangen'],\n",
              " 'genres': {'Action', 'Biography'}}"
            ]
          },
          "metadata": {},
          "execution_count": 30
        }
      ]
    },
    {
      "cell_type": "code",
      "source": [
        "# теперь временный словарь, в котором мы соединим эту информацию с именем актера\n",
        "\n",
        "temp = dict()\n",
        "temp[person['canonical name']] = actor\n",
        "\n",
        "temp"
      ],
      "metadata": {
        "id": "pjxwcxH9OTk3",
        "colab": {
          "base_uri": "https://localhost:8080/"
        },
        "outputId": "2065fc83-98e7-4a8a-e7f5-89b836b76ba3"
      },
      "execution_count": 31,
      "outputs": [
        {
          "output_type": "execute_result",
          "data": {
            "text/plain": [
              "{'Mikkelsen, Mads': {'films': ['The Billion Dollar Spy',\n",
              "   'The Black Kaiser',\n",
              "   'Dust Bunny',\n",
              "   'The Promised Land',\n",
              "   'Indiana Jones and the Dial of Destiny',\n",
              "   'Fantastic Beasts: The Secrets of Dumbledore',\n",
              "   'Return of the Goat II: New World Order',\n",
              "   'Chaos Walking',\n",
              "   'Riders of Justice',\n",
              "   'Another Round',\n",
              "   'Death Stranding',\n",
              "   'Polar',\n",
              "   \"At Eternity's Gate\",\n",
              "   'Arctic',\n",
              "   'Rogue One: A Star Wars Story',\n",
              "   'Le Fantôme',\n",
              "   'Doctor Strange',\n",
              "   'Hannibal',\n",
              "   'Rihanna: Bitch Better Have My Money',\n",
              "   'Men & Chicken',\n",
              "   'The Salvation',\n",
              "   'Age of Uprising: The Legend of Michael Kohlhaas',\n",
              "   'Charlie Countryman',\n",
              "   'Move On',\n",
              "   'The Hunt',\n",
              "   'A Royal Affair',\n",
              "   'The Three Musketeers',\n",
              "   'Moomins and the Comet Chase',\n",
              "   'Clash of the Titans',\n",
              "   'The Door',\n",
              "   'Valhalla Rising',\n",
              "   'Coco Chanel & Igor Stravinsky',\n",
              "   'Quantum of Solace',\n",
              "   'Flame & Citron',\n",
              "   'Casino Royale',\n",
              "   'Exit',\n",
              "   'Prague',\n",
              "   'After the Wedding',\n",
              "   'Julie',\n",
              "   \"Adam's Apples\",\n",
              "   'Klovn',\n",
              "   'Pusher II',\n",
              "   'King Arthur',\n",
              "   'Unit One',\n",
              "   'Torremolinos 73',\n",
              "   'The Green Butchers',\n",
              "   'Now',\n",
              "   'The Boy Below',\n",
              "   'Wilbur Wants to Kill Himself',\n",
              "   'Open Hearts',\n",
              "   'I Am Dina',\n",
              "   'Shake It',\n",
              "   'Monas verden',\n",
              "   'Flickering Lights',\n",
              "   'Tom Merritt',\n",
              "   'Bleeder',\n",
              "   'Angel of the Night',\n",
              "   'Wildside',\n",
              "   'The Caretaker',\n",
              "   'Café Hector',\n",
              "   'Pusher',\n",
              "   'Blomsterfangen'],\n",
              "  'genres': {'Action', 'Biography'}}}"
            ]
          },
          "metadata": {},
          "execution_count": 31
        }
      ]
    },
    {
      "cell_type": "code",
      "source": [
        "# карточка готова, но мы наверняка захотим добавить туда еще актеров\n",
        "# создаем хранилище карточек в виде списка и вносим туда первую карточку с append\n",
        "\n",
        "cards = []\n",
        "cards.append(temp)\n",
        "\n",
        "cards"
      ],
      "metadata": {
        "colab": {
          "base_uri": "https://localhost:8080/"
        },
        "id": "sPE1W57QPNYp",
        "outputId": "100ab35d-f947-4c48-b6a4-703025de20d5"
      },
      "execution_count": 32,
      "outputs": [
        {
          "output_type": "execute_result",
          "data": {
            "text/plain": [
              "[{'Mikkelsen, Mads': {'films': ['The Billion Dollar Spy',\n",
              "    'The Black Kaiser',\n",
              "    'Dust Bunny',\n",
              "    'The Promised Land',\n",
              "    'Indiana Jones and the Dial of Destiny',\n",
              "    'Fantastic Beasts: The Secrets of Dumbledore',\n",
              "    'Return of the Goat II: New World Order',\n",
              "    'Chaos Walking',\n",
              "    'Riders of Justice',\n",
              "    'Another Round',\n",
              "    'Death Stranding',\n",
              "    'Polar',\n",
              "    \"At Eternity's Gate\",\n",
              "    'Arctic',\n",
              "    'Rogue One: A Star Wars Story',\n",
              "    'Le Fantôme',\n",
              "    'Doctor Strange',\n",
              "    'Hannibal',\n",
              "    'Rihanna: Bitch Better Have My Money',\n",
              "    'Men & Chicken',\n",
              "    'The Salvation',\n",
              "    'Age of Uprising: The Legend of Michael Kohlhaas',\n",
              "    'Charlie Countryman',\n",
              "    'Move On',\n",
              "    'The Hunt',\n",
              "    'A Royal Affair',\n",
              "    'The Three Musketeers',\n",
              "    'Moomins and the Comet Chase',\n",
              "    'Clash of the Titans',\n",
              "    'The Door',\n",
              "    'Valhalla Rising',\n",
              "    'Coco Chanel & Igor Stravinsky',\n",
              "    'Quantum of Solace',\n",
              "    'Flame & Citron',\n",
              "    'Casino Royale',\n",
              "    'Exit',\n",
              "    'Prague',\n",
              "    'After the Wedding',\n",
              "    'Julie',\n",
              "    \"Adam's Apples\",\n",
              "    'Klovn',\n",
              "    'Pusher II',\n",
              "    'King Arthur',\n",
              "    'Unit One',\n",
              "    'Torremolinos 73',\n",
              "    'The Green Butchers',\n",
              "    'Now',\n",
              "    'The Boy Below',\n",
              "    'Wilbur Wants to Kill Himself',\n",
              "    'Open Hearts',\n",
              "    'I Am Dina',\n",
              "    'Shake It',\n",
              "    'Monas verden',\n",
              "    'Flickering Lights',\n",
              "    'Tom Merritt',\n",
              "    'Bleeder',\n",
              "    'Angel of the Night',\n",
              "    'Wildside',\n",
              "    'The Caretaker',\n",
              "    'Café Hector',\n",
              "    'Pusher',\n",
              "    'Blomsterfangen'],\n",
              "   'genres': {'Action', 'Biography'}}}]"
            ]
          },
          "metadata": {},
          "execution_count": 32
        }
      ]
    },
    {
      "cell_type": "markdown",
      "source": [
        "Задание:\n",
        "\n",
        "- Создать карточки для 5 актеров одного (любого фильма) - можно больше, главное, чтобы ваш код масштабировался до любого количества актеров\n",
        "- В карточке каждого актера должна содержаться следующая информация:\n",
        " * фильмография в качестве актера\n",
        " * несколько жанров\n",
        " * год выпуска фильмов, где снимался актер\n",
        " * языки, на которых сняты эти фильмы\n",
        " * рейтинги этих фильмов\n",
        "\n",
        "Создание карточек должно быть автоматизировано: за один цикл работы программы должна создаваться одна карточка. Чтобы программа не работала слишком долго, можно сократить количество извлеченных фильмов до пяти, извлекать только один жанр, один язык, где их несколько.\n",
        "\n",
        "Если этого мало: используйте функции для своей работы (аргументами функции может быть количество актеров, количество фильмов и т.д.), добавьте к фильмографии синопсисы."
      ],
      "metadata": {
        "id": "d-Q6tLj6QVUj"
      }
    },
    {
      "cell_type": "code",
      "source": [
        "from imdb import Cinemagoer\n",
        "ia = Cinemagoer()\n",
        "movie = ia.get_movie('2243973')"
      ],
      "metadata": {
        "id": "Z_DQzIrpqvEM"
      },
      "execution_count": 33,
      "outputs": []
    },
    {
      "cell_type": "code",
      "source": [
        "cards = []\n",
        "\n",
        "for actor in movie['cast'][:10]:\n",
        "  actor_idx = ia.search_person(actor['name'])\n",
        "  actor_info = ia.get_person(actor_idx[0].personID)\n",
        "  full_info = dict()\n",
        "  genres_list = []\n",
        "  years = []\n",
        "  languages_list = []\n",
        "  titles = []\n",
        "  ratings = []\n",
        "\n",
        "  if 'actor' in actor_info['filmography'].keys():\n",
        "    for i in range(5):\n",
        "      titles.append(actor_info['filmography']['actor'][i]['title'])\n",
        "  else:\n",
        "    for i in range(5):\n",
        "      titles.append(actor_info['filmography']['actress'][i]['title'])\n",
        "\n",
        "for title in titles:\n",
        "  film_list = ia.search_movie(title)\n",
        "  film = ia.get_movie(film_list[0].movieID)\n",
        "  genres = film['genres'][:5]\n",
        "  genres_list.append(genres)\n",
        "  if 'year' in film.keys():\n",
        "    year = film['year']\n",
        "    years.append(year)\n",
        "  if 'languages' in film.keys():\n",
        "    languages = film['languages']\n",
        "    languages_list.append(languages[0])\n",
        "  if 'rating' in film.keys():\n",
        "    rating = film['rating']\n",
        "    ratings.append(rating)\n",
        "\n",
        "  full_info['titles'] = titles\n",
        "  full_info['genres'] = set([item for row in genres_list for item in row])\n",
        "  full_info['years'] = set(years)\n",
        "  full_info['languages'] = set(languages_list)\n",
        "  full_info['ratings'] = ratings\n",
        "\n",
        "  cards.append({actor_info['canonical name']: full_info})\n",
        "\n",
        "cards"
      ],
      "metadata": {
        "colab": {
          "base_uri": "https://localhost:8080/"
        },
        "id": "kr65GKsAXNb0",
        "outputId": "39039b0a-8b2a-427c-86ef-2f93a01496f3"
      },
      "execution_count": 38,
      "outputs": [
        {
          "output_type": "execute_result",
          "data": {
            "text/plain": [
              "[{'Chorostecki, Lara Jean': {'titles': ['Chucky',\n",
              "    'The King Tide',\n",
              "    'The Good Doctor',\n",
              "    'Murdoch Mysteries',\n",
              "    'Reacher'],\n",
              "   'genres': {'Action',\n",
              "    'Comedy',\n",
              "    'Crime',\n",
              "    'Drama',\n",
              "    'Horror',\n",
              "    'Mystery',\n",
              "    'Thriller'},\n",
              "   'years': {2008, 2017, 2021, 2022, 2023},\n",
              "   'languages': {'English'},\n",
              "   'ratings': [7.3, 8.2, 8.0, 8.2, 8.1]}},\n",
              " {'Chorostecki, Lara Jean': {'titles': ['Chucky',\n",
              "    'The King Tide',\n",
              "    'The Good Doctor',\n",
              "    'Murdoch Mysteries',\n",
              "    'Reacher'],\n",
              "   'genres': {'Action',\n",
              "    'Comedy',\n",
              "    'Crime',\n",
              "    'Drama',\n",
              "    'Horror',\n",
              "    'Mystery',\n",
              "    'Thriller'},\n",
              "   'years': {2008, 2017, 2021, 2022, 2023},\n",
              "   'languages': {'English'},\n",
              "   'ratings': [7.3, 8.2, 8.0, 8.2, 8.1]}},\n",
              " {'Chorostecki, Lara Jean': {'titles': ['Chucky',\n",
              "    'The King Tide',\n",
              "    'The Good Doctor',\n",
              "    'Murdoch Mysteries',\n",
              "    'Reacher'],\n",
              "   'genres': {'Action',\n",
              "    'Comedy',\n",
              "    'Crime',\n",
              "    'Drama',\n",
              "    'Horror',\n",
              "    'Mystery',\n",
              "    'Thriller'},\n",
              "   'years': {2008, 2017, 2021, 2022, 2023},\n",
              "   'languages': {'English'},\n",
              "   'ratings': [7.3, 8.2, 8.0, 8.2, 8.1]}},\n",
              " {'Chorostecki, Lara Jean': {'titles': ['Chucky',\n",
              "    'The King Tide',\n",
              "    'The Good Doctor',\n",
              "    'Murdoch Mysteries',\n",
              "    'Reacher'],\n",
              "   'genres': {'Action',\n",
              "    'Comedy',\n",
              "    'Crime',\n",
              "    'Drama',\n",
              "    'Horror',\n",
              "    'Mystery',\n",
              "    'Thriller'},\n",
              "   'years': {2008, 2017, 2021, 2022, 2023},\n",
              "   'languages': {'English'},\n",
              "   'ratings': [7.3, 8.2, 8.0, 8.2, 8.1]}},\n",
              " {'Chorostecki, Lara Jean': {'titles': ['Chucky',\n",
              "    'The King Tide',\n",
              "    'The Good Doctor',\n",
              "    'Murdoch Mysteries',\n",
              "    'Reacher'],\n",
              "   'genres': {'Action',\n",
              "    'Comedy',\n",
              "    'Crime',\n",
              "    'Drama',\n",
              "    'Horror',\n",
              "    'Mystery',\n",
              "    'Thriller'},\n",
              "   'years': {2008, 2017, 2021, 2022, 2023},\n",
              "   'languages': {'English'},\n",
              "   'ratings': [7.3, 8.2, 8.0, 8.2, 8.1]}}]"
            ]
          },
          "metadata": {},
          "execution_count": 38
        }
      ]
    },
    {
      "cell_type": "markdown",
      "source": [
        "Я не понимаю почему у меня каждый раз выходит повторение карточки одной и той же актрисы. При любой структуре кода итог один и тот же :("
      ],
      "metadata": {
        "id": "Ae38AVWnX82G"
      }
    }
  ]
}